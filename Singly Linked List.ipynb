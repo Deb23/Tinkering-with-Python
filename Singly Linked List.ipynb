{
 "cells": [
  {
   "cell_type": "code",
   "execution_count": 12,
   "metadata": {},
   "outputs": [
    {
     "name": "stdout",
     "output_type": "stream",
     "text": [
      "2->1\n"
     ]
    }
   ],
   "source": [
    "class Node(object):\n",
    "    \n",
    "    def __init__(self, data=None, next=None):\n",
    "        self.data=data\n",
    "        self.next=next\n",
    "        \n",
    "    def getdata(self):\n",
    "        return self.data\n",
    "    \n",
    "    def setdata(self,data):\n",
    "        self.data=data\n",
    "    \n",
    "    def getnext(self):\n",
    "        return self.next\n",
    "    \n",
    "    def setnext(self,new_next):\n",
    "        self.next=new_next\n",
    "        \n",
    "    \n",
    "class linkedlist(object):\n",
    "    \n",
    "    def __init__(self, head=None):\n",
    "        self.head = head\n",
    "\n",
    "    def insert(self, data):\n",
    "        new_node = Node(data)\n",
    "        new_node.setnext(self.head)\n",
    "        self.head = new_node\n",
    "\n",
    "    def size(self):\n",
    "        current = self.head\n",
    "        count = 0\n",
    "        while current:\n",
    "            count += 1\n",
    "            current = current.getnext()\n",
    "        return count\n",
    "\n",
    "    def search(self, data):\n",
    "        current = self.head\n",
    "        while current:\n",
    "            if current.getdata() == data:\n",
    "                return current\n",
    "            else:\n",
    "                current = current.getnext()\n",
    "        return None\n",
    "\n",
    "    def delete(self, data):\n",
    "        current = self.head\n",
    "        prev = None\n",
    "        while current:\n",
    "            if current.getdata() == data:\n",
    "                if current == self.head:\n",
    "                    self.head = current.getnext()\n",
    "                else:\n",
    "                    prev.setnext(current.getnext())\n",
    "                return current\n",
    "            prev = current\n",
    "            current = current.getnext()\n",
    "        return None\n",
    "\n",
    "def print_list(self):\n",
    "        lst = []\n",
    "        current = self.head\n",
    "        while current:\n",
    "            lst.append(str(current.getdata()))\n",
    "            current = current.getnext()\n",
    "        print('->'.join(lst))\n",
    "        \n",
    "def main():\n",
    "    LinkedList = linkedlist()\n",
    "    LinkedList.insert(1)\n",
    "    LinkedList.insert(2)\n",
    "    print_list(LinkedList)\n",
    "\n",
    "if __name__ == \"__main__\": main()"
   ]
  },
  {
   "cell_type": "code",
   "execution_count": null,
   "metadata": {
    "collapsed": true
   },
   "outputs": [],
   "source": []
  }
 ],
 "metadata": {
  "kernelspec": {
   "display_name": "Python 3",
   "language": "python",
   "name": "python3"
  },
  "language_info": {
   "codemirror_mode": {
    "name": "ipython",
    "version": 3
   },
   "file_extension": ".py",
   "mimetype": "text/x-python",
   "name": "python",
   "nbconvert_exporter": "python",
   "pygments_lexer": "ipython3",
   "version": "3.6.3"
  }
 },
 "nbformat": 4,
 "nbformat_minor": 2
}
